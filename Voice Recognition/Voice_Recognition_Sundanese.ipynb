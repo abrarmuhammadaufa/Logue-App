{
  "cells": [
    {
      "cell_type": "code",
      "execution_count": null,
      "metadata": {
        "colab": {
          "base_uri": "https://localhost:8080/"
        },
        "id": "-eb4R4S-796A",
        "outputId": "f749b52b-b630-420b-aad6-887193d1849c"
      },
      "outputs": [
        {
          "name": "stdout",
          "output_type": "stream",
          "text": [
            "Looking in indexes: https://pypi.org/simple, https://us-python.pkg.dev/colab-wheels/public/simple/\n",
            "Collecting jiwer\n",
            "  Downloading jiwer-3.0.1-py3-none-any.whl (21 kB)\n",
            "Requirement already satisfied: click<9.0.0,>=8.1.3 in /usr/local/lib/python3.10/dist-packages (from jiwer) (8.1.3)\n",
            "Collecting rapidfuzz==2.13.7 (from jiwer)\n",
            "  Downloading rapidfuzz-2.13.7-cp310-cp310-manylinux_2_17_x86_64.manylinux2014_x86_64.whl (2.2 MB)\n",
            "\u001b[2K     \u001b[90m━━━━━━━━━━━━━━━━━━━━━━━━━━━━━━━━━━━━━━━━\u001b[0m \u001b[32m2.2/2.2 MB\u001b[0m \u001b[31m42.3 MB/s\u001b[0m eta \u001b[36m0:00:00\u001b[0m\n",
            "\u001b[?25hInstalling collected packages: rapidfuzz, jiwer\n",
            "Successfully installed jiwer-3.0.1 rapidfuzz-2.13.7\n"
          ]
        }
      ],
      "source": [
        "!pip install jiwer"
      ]
    },
    {
      "cell_type": "code",
      "execution_count": null,
      "metadata": {
        "colab": {
          "base_uri": "https://localhost:8080/"
        },
        "id": "7CaFgkbHv-Om",
        "outputId": "ad7cfab9-c624-4988-c6a4-19b427b4c0dc"
      },
      "outputs": [
        {
          "name": "stdout",
          "output_type": "stream",
          "text": [
            "Looking in indexes: https://pypi.org/simple, https://us-python.pkg.dev/colab-wheels/public/simple/\n",
            "Collecting pydub\n",
            "  Downloading pydub-0.25.1-py2.py3-none-any.whl (32 kB)\n",
            "Installing collected packages: pydub\n",
            "Successfully installed pydub-0.25.1\n"
          ]
        }
      ],
      "source": [
        "!pip install pydub"
      ]
    },
    {
      "cell_type": "code",
      "execution_count": null,
      "metadata": {
        "colab": {
          "base_uri": "https://localhost:8080/"
        },
        "id": "lAWX82-NwJ49",
        "outputId": "6efa9a16-5049-4521-857b-cb78cff793eb"
      },
      "outputs": [
        {
          "name": "stdout",
          "output_type": "stream",
          "text": [
            "Looking in indexes: https://pypi.org/simple, https://us-python.pkg.dev/colab-wheels/public/simple/\n",
            "Collecting AudioConverter\n",
            "  Downloading AudioConverter-1.0.0-py3-none-any.whl (6.2 kB)\n",
            "Collecting click<8.0.0,>=7.1.2 (from AudioConverter)\n",
            "  Downloading click-7.1.2-py2.py3-none-any.whl (82 kB)\n",
            "\u001b[2K     \u001b[90m━━━━━━━━━━━━━━━━━━━━━━━━━━━━━━━━━━━━━━━━\u001b[0m \u001b[32m82.8/82.8 kB\u001b[0m \u001b[31m3.8 MB/s\u001b[0m eta \u001b[36m0:00:00\u001b[0m\n",
            "\u001b[?25hCollecting colorama<1.0.0,>=0.4.3 (from AudioConverter)\n",
            "  Downloading colorama-0.4.6-py2.py3-none-any.whl (25 kB)\n",
            "Requirement already satisfied: pydub<1.0.0,>=0.24.1 in /usr/local/lib/python3.10/dist-packages (from AudioConverter) (0.25.1)\n",
            "Installing collected packages: colorama, click, AudioConverter\n",
            "  Attempting uninstall: click\n",
            "    Found existing installation: click 8.1.3\n",
            "    Uninstalling click-8.1.3:\n",
            "      Successfully uninstalled click-8.1.3\n",
            "\u001b[31mERROR: pip's dependency resolver does not currently take into account all the packages that are installed. This behaviour is the source of the following dependency conflicts.\n",
            "flask 2.2.4 requires click>=8.0, but you have click 7.1.2 which is incompatible.\n",
            "jiwer 3.0.1 requires click<9.0.0,>=8.1.3, but you have click 7.1.2 which is incompatible.\n",
            "pip-tools 6.13.0 requires click>=8, but you have click 7.1.2 which is incompatible.\u001b[0m\u001b[31m\n",
            "\u001b[0mSuccessfully installed AudioConverter-1.0.0 click-7.1.2 colorama-0.4.6\n"
          ]
        }
      ],
      "source": [
        "!pip install --upgrade AudioConverter"
      ]
    },
    {
      "cell_type": "code",
      "execution_count": null,
      "metadata": {
        "id": "oyVcQpE7ewEO"
      },
      "outputs": [],
      "source": [
        "import pandas as pd\n",
        "import numpy as np\n",
        "import zipfile\n",
        "import os\n",
        "import tensorflow as tf\n",
        "from tensorflow import keras\n",
        "from tensorflow.keras import layers\n",
        "import matplotlib.pyplot as plt\n",
        "from IPython import display\n",
        "from jiwer import wer"
      ]
    },
    {
      "cell_type": "code",
      "execution_count": null,
      "metadata": {
        "colab": {
          "base_uri": "https://localhost:8080/"
        },
        "id": "H4mIkrrUAFDs",
        "outputId": "c64d7927-1baa-48a9-d9cc-2f9c286a5db4"
      },
      "outputs": [
        {
          "name": "stdout",
          "output_type": "stream",
          "text": [
            "--2023-06-01 06:48:27--  https://www.openslr.org/resources/36/asr_sundanese_0.zip\n",
            "Resolving www.openslr.org (www.openslr.org)... 46.101.158.64\n",
            "Connecting to www.openslr.org (www.openslr.org)|46.101.158.64|:443... connected.\n",
            "HTTP request sent, awaiting response... 302 Found\n",
            "Location: http://us.openslr.org/resources/36/asr_sundanese_0.zip [following]\n",
            "--2023-06-01 06:48:28--  http://us.openslr.org/resources/36/asr_sundanese_0.zip\n",
            "Resolving us.openslr.org (us.openslr.org)... 46.101.158.64\n",
            "Connecting to us.openslr.org (us.openslr.org)|46.101.158.64|:80... connected.\n",
            "HTTP request sent, awaiting response... 200 OK\n",
            "Length: 1433294860 (1.3G) [application/zip]\n",
            "Saving to: ‘/tmp/asr_sundanese_0.zip’\n",
            "\n",
            "/tmp/asr_sundanese_ 100%[===================>]   1.33G  20.3MB/s    in 68s     \n",
            "\n",
            "2023-06-01 06:49:36 (20.0 MB/s) - ‘/tmp/asr_sundanese_0.zip’ saved [1433294860/1433294860]\n",
            "\n",
            "--2023-06-01 06:49:45--  https://www.openslr.org/resources/36/asr_sundanese_1.zip\n",
            "Resolving www.openslr.org (www.openslr.org)... 46.101.158.64\n",
            "Connecting to www.openslr.org (www.openslr.org)|46.101.158.64|:443... connected.\n",
            "HTTP request sent, awaiting response... 302 Found\n",
            "Location: http://us.openslr.org/resources/36/asr_sundanese_1.zip [following]\n",
            "--2023-06-01 06:49:46--  http://us.openslr.org/resources/36/asr_sundanese_1.zip\n",
            "Resolving us.openslr.org (us.openslr.org)... 46.101.158.64\n",
            "Connecting to us.openslr.org (us.openslr.org)|46.101.158.64|:80... connected.\n",
            "HTTP request sent, awaiting response... 200 OK\n",
            "Length: 1445470477 (1.3G) [application/zip]\n",
            "Saving to: ‘/tmp/asr_sundanese_1.zip’\n",
            "\n",
            "/tmp/asr_sundanese_ 100%[===================>]   1.35G  18.7MB/s    in 70s     \n",
            "\n",
            "2023-06-01 06:50:56 (19.8 MB/s) - ‘/tmp/asr_sundanese_1.zip’ saved [1445470477/1445470477]\n",
            "\n",
            "--2023-06-01 06:51:07--  https://www.openslr.org/resources/36/asr_sundanese_2.zip\n",
            "Resolving www.openslr.org (www.openslr.org)... 46.101.158.64\n",
            "Connecting to www.openslr.org (www.openslr.org)|46.101.158.64|:443... connected.\n",
            "HTTP request sent, awaiting response... 302 Found\n",
            "Location: http://us.openslr.org/resources/36/asr_sundanese_2.zip [following]\n",
            "--2023-06-01 06:51:07--  http://us.openslr.org/resources/36/asr_sundanese_2.zip\n",
            "Resolving us.openslr.org (us.openslr.org)... 46.101.158.64\n",
            "Connecting to us.openslr.org (us.openslr.org)|46.101.158.64|:80... connected.\n",
            "HTTP request sent, awaiting response... 200 OK\n",
            "Length: 1431289018 (1.3G) [application/zip]\n",
            "Saving to: ‘/tmp/asr_sundanese_2.zip’\n",
            "\n",
            "/tmp/asr_sundanese_ 100%[===================>]   1.33G  19.7MB/s    in 71s     \n",
            "\n",
            "2023-06-01 06:52:19 (19.2 MB/s) - ‘/tmp/asr_sundanese_2.zip’ saved [1431289018/1431289018]\n",
            "\n",
            "--2023-06-01 06:52:30--  https://www.openslr.org/resources/36/asr_sundanese_3.zip\n",
            "Resolving www.openslr.org (www.openslr.org)... 46.101.158.64\n",
            "Connecting to www.openslr.org (www.openslr.org)|46.101.158.64|:443... connected.\n",
            "HTTP request sent, awaiting response... 302 Found\n",
            "Location: http://us.openslr.org/resources/36/asr_sundanese_3.zip [following]\n",
            "--2023-06-01 06:52:30--  http://us.openslr.org/resources/36/asr_sundanese_3.zip\n",
            "Resolving us.openslr.org (us.openslr.org)... 46.101.158.64\n",
            "Connecting to us.openslr.org (us.openslr.org)|46.101.158.64|:80... connected.\n",
            "HTTP request sent, awaiting response... 200 OK\n",
            "Length: 1446805642 (1.3G) [application/zip]\n",
            "Saving to: ‘/tmp/asr_sundanese_3.zip’\n",
            "\n",
            "/tmp/asr_sundanese_ 100%[===================>]   1.35G  20.1MB/s    in 71s     \n",
            "\n",
            "2023-06-01 06:53:41 (19.4 MB/s) - ‘/tmp/asr_sundanese_3.zip’ saved [1446805642/1446805642]\n",
            "\n",
            "--2023-06-01 06:53:56--  https://www.openslr.org/resources/36/asr_sundanese_4.zip\n",
            "Resolving www.openslr.org (www.openslr.org)... 46.101.158.64\n",
            "Connecting to www.openslr.org (www.openslr.org)|46.101.158.64|:443... connected.\n",
            "HTTP request sent, awaiting response... 302 Found\n",
            "Location: http://us.openslr.org/resources/36/asr_sundanese_4.zip [following]\n",
            "--2023-06-01 06:53:57--  http://us.openslr.org/resources/36/asr_sundanese_4.zip\n",
            "Resolving us.openslr.org (us.openslr.org)... 46.101.158.64\n",
            "Connecting to us.openslr.org (us.openslr.org)|46.101.158.64|:80... connected.\n",
            "HTTP request sent, awaiting response... 200 OK\n",
            "Length: 1449187658 (1.3G) [application/zip]\n",
            "Saving to: ‘/tmp/asr_sundanese_4.zip’\n",
            "\n",
            "/tmp/asr_sundanese_ 100%[===================>]   1.35G  20.5MB/s    in 69s     \n",
            "\n",
            "2023-06-01 06:55:06 (20.0 MB/s) - ‘/tmp/asr_sundanese_4.zip’ saved [1449187658/1449187658]\n",
            "\n",
            "--2023-06-01 06:55:20--  https://www.openslr.org/resources/36/asr_sundanese_5.zip\n",
            "Resolving www.openslr.org (www.openslr.org)... 46.101.158.64\n",
            "Connecting to www.openslr.org (www.openslr.org)|46.101.158.64|:443... connected.\n",
            "HTTP request sent, awaiting response... 302 Found\n",
            "Location: http://us.openslr.org/resources/36/asr_sundanese_5.zip [following]\n",
            "--2023-06-01 06:55:21--  http://us.openslr.org/resources/36/asr_sundanese_5.zip\n",
            "Resolving us.openslr.org (us.openslr.org)... 46.101.158.64\n",
            "Connecting to us.openslr.org (us.openslr.org)|46.101.158.64|:80... connected.\n",
            "HTTP request sent, awaiting response... 200 OK\n",
            "Length: 1425741894 (1.3G) [application/zip]\n",
            "Saving to: ‘/tmp/asr_sundanese_5.zip’\n",
            "\n",
            "/tmp/asr_sundanese_ 100%[===================>]   1.33G  19.7MB/s    in 70s     \n",
            "\n",
            "2023-06-01 06:56:32 (19.3 MB/s) - ‘/tmp/asr_sundanese_5.zip’ saved [1425741894/1425741894]\n",
            "\n",
            "--2023-06-01 06:56:42--  https://www.openslr.org/resources/36/asr_sundanese_6.zip\n",
            "Resolving www.openslr.org (www.openslr.org)... 46.101.158.64\n",
            "Connecting to www.openslr.org (www.openslr.org)|46.101.158.64|:443... connected.\n",
            "HTTP request sent, awaiting response... 302 Found\n",
            "Location: http://us.openslr.org/resources/36/asr_sundanese_6.zip [following]\n",
            "--2023-06-01 06:56:42--  http://us.openslr.org/resources/36/asr_sundanese_6.zip\n",
            "Resolving us.openslr.org (us.openslr.org)... 46.101.158.64\n",
            "Connecting to us.openslr.org (us.openslr.org)|46.101.158.64|:80... connected.\n",
            "HTTP request sent, awaiting response... 200 OK\n",
            "Length: 1415730042 (1.3G) [application/zip]\n",
            "Saving to: ‘/tmp/asr_sundanese_6.zip’\n",
            "\n",
            "/tmp/asr_sundanese_ 100%[===================>]   1.32G  19.8MB/s    in 69s     \n",
            "\n",
            "2023-06-01 06:57:52 (19.5 MB/s) - ‘/tmp/asr_sundanese_6.zip’ saved [1415730042/1415730042]\n",
            "\n",
            "--2023-06-01 06:58:01--  https://www.openslr.org/resources/36/asr_sundanese_7.zip\n",
            "Resolving www.openslr.org (www.openslr.org)... 46.101.158.64\n",
            "Connecting to www.openslr.org (www.openslr.org)|46.101.158.64|:443... connected.\n",
            "HTTP request sent, awaiting response... 302 Found\n",
            "Location: http://us.openslr.org/resources/36/asr_sundanese_7.zip [following]\n",
            "--2023-06-01 06:58:01--  http://us.openslr.org/resources/36/asr_sundanese_7.zip\n",
            "Resolving us.openslr.org (us.openslr.org)... 46.101.158.64\n",
            "Connecting to us.openslr.org (us.openslr.org)|46.101.158.64|:80... connected.\n",
            "HTTP request sent, awaiting response... 200 OK\n",
            "Length: 1436967650 (1.3G) [application/zip]\n",
            "Saving to: ‘/tmp/asr_sundanese_7.zip’\n",
            "\n",
            "/tmp/asr_sundanese_ 100%[===================>]   1.34G  20.5MB/s    in 69s     \n",
            "\n",
            "2023-06-01 06:59:10 (20.0 MB/s) - ‘/tmp/asr_sundanese_7.zip’ saved [1436967650/1436967650]\n",
            "\n",
            "--2023-06-01 06:59:18--  https://www.openslr.org/resources/36/asr_sundanese_8.zip\n",
            "Resolving www.openslr.org (www.openslr.org)... 46.101.158.64\n",
            "Connecting to www.openslr.org (www.openslr.org)|46.101.158.64|:443... connected.\n",
            "HTTP request sent, awaiting response... 302 Found\n",
            "Location: http://us.openslr.org/resources/36/asr_sundanese_8.zip [following]\n",
            "--2023-06-01 06:59:19--  http://us.openslr.org/resources/36/asr_sundanese_8.zip\n",
            "Resolving us.openslr.org (us.openslr.org)... 46.101.158.64\n",
            "Connecting to us.openslr.org (us.openslr.org)|46.101.158.64|:80... connected.\n",
            "HTTP request sent, awaiting response... 200 OK\n",
            "Length: 1436421462 (1.3G) [application/zip]\n",
            "Saving to: ‘/tmp/asr_sundanese_8.zip’\n",
            "\n",
            "/tmp/asr_sundanese_ 100%[===================>]   1.34G  20.2MB/s    in 70s     \n",
            "\n",
            "2023-06-01 07:00:29 (19.7 MB/s) - ‘/tmp/asr_sundanese_8.zip’ saved [1436421462/1436421462]\n",
            "\n",
            "--2023-06-01 07:00:37--  https://www.openslr.org/resources/36/asr_sundanese_9.zip\n",
            "Resolving www.openslr.org (www.openslr.org)... 46.101.158.64\n",
            "Connecting to www.openslr.org (www.openslr.org)|46.101.158.64|:443... connected.\n",
            "HTTP request sent, awaiting response... 302 Found\n",
            "Location: http://us.openslr.org/resources/36/asr_sundanese_9.zip [following]\n",
            "--2023-06-01 07:00:38--  http://us.openslr.org/resources/36/asr_sundanese_9.zip\n",
            "Resolving us.openslr.org (us.openslr.org)... 46.101.158.64\n",
            "Connecting to us.openslr.org (us.openslr.org)|46.101.158.64|:80... connected.\n",
            "HTTP request sent, awaiting response... 200 OK\n",
            "Length: 1434660332 (1.3G) [application/zip]\n",
            "Saving to: ‘/tmp/asr_sundanese_9.zip’\n",
            "\n",
            "/tmp/asr_sundanese_ 100%[===================>]   1.34G  19.8MB/s    in 68s     \n",
            "\n",
            "2023-06-01 07:01:46 (20.0 MB/s) - ‘/tmp/asr_sundanese_9.zip’ saved [1434660332/1434660332]\n",
            "\n"
          ]
        }
      ],
      "source": [
        "for i in range(10):\n",
        "  !wget --no-check-certificate \\\n",
        "      \"https://www.openslr.org/resources/36/asr_sundanese_{i}.zip\" \\\n",
        "      -O \"/tmp/asr_sundanese_{i}.zip\"\n",
        "\n",
        "  local_zip = f'/tmp/asr_sundanese_{i}.zip'\n",
        "  zip_ref   = zipfile.ZipFile(local_zip, 'r')\n",
        "  zip_ref.extractall('/tmp')\n",
        "  zip_ref.close()"
      ]
    },
    {
      "cell_type": "code",
      "execution_count": null,
      "metadata": {
        "id": "rrXUquVa-Gr6"
      },
      "outputs": [],
      "source": [
        "flacs_path = \"/tmp/asr_sundanese/data/\"\n",
        "metadata_path = \"/tmp/asr_sundanese/utt_spk_text.tsv\""
      ]
    },
    {
      "cell_type": "code",
      "execution_count": null,
      "metadata": {
        "id": "UkT1ebacwvC7"
      },
      "outputs": [],
      "source": [
        "os.mkdir('/tmp/asr_sundanese/wavs/')"
      ]
    },
    {
      "cell_type": "code",
      "execution_count": null,
      "metadata": {
        "colab": {
          "base_uri": "https://localhost:8080/"
        },
        "id": "dH0jDdsF38JQ",
        "outputId": "dcd5dfd1-e1ae-4a38-e4ad-830be3966e09"
      },
      "outputs": [
        {
          "name": "stdout",
          "output_type": "stream",
          "text": [
            "['0e', '54', '15', '5b', '6d', '6a', '18', '65', '95', '2b', '4f', '45', '68', '72', '43', '12', '20', '29', '14', '36', '00', '34', '70', '85', '98', '11', '17', '8c', '38', '4d', '64', '8a', '61', '94', '02', '71', '8d', '6f', '7f', '32', '88', '6b', '46', '39', '44', '91', '08', '75', '79', '6e', '48', '2c', '1d', '87', '83', '1f', '9c', '2f', '0b', '3e', '96', '59', '8b', '74', '84', '37', '62', '69', '31', '93', '0a', '1a', '2a', '33', '21', '0c', '07', '5c', '8f', '80', '58', '09', '25', '76', '3f', '7e', '73', '6c', '40', '92', '53', '5e', '5f', '50', '4a', '42', '63', '7a', '52', '10', '60', '56', '9d', '03', '1b', '35', '9a', '06', '3a', '51', '99', '4b', '01', '77', '89', '05', '4e', '0d', '9e', '0f', '04', '41', '1c', '9f', '19', '27', '2e', '26', '82', '5d', '90', '47', '3d', '97', '24', '7b', '5a', '7d', '9b', '23', '4c', '30', '57', '13', '22', '3c', '7c', '3b', '28', '49', '16', '2d', '78', '1e', '67', '66', '8e', '55', '81', '86']\n"
          ]
        }
      ],
      "source": [
        "labels = os.listdir(flacs_path)\n",
        "print(labels)"
      ]
    },
    {
      "cell_type": "markdown",
      "metadata": {
        "id": "awJ6oKeIcCLe"
      },
      "source": [
        "## Convert .flac to .wav"
      ]
    },
    {
      "cell_type": "code",
      "execution_count": null,
      "metadata": {
        "colab": {
          "background_save": true,
          "base_uri": "https://localhost:8080/"
        },
        "id": "pnZHoNdxzEMO",
        "outputId": "5b8f60f2-3c72-4056-8523-8ec37847b23c"
      },
      "outputs": [
        {
          "name": "stdout",
          "output_type": "stream",
          "text": [
            "\u001b[34m[ INFO    ] Starting conversion of /tmp/asr_sundanese/data/0e/.\u001b[0m\n",
            "\u001b[32m[ SUCCESS ] See /tmp/asr_sundanese/wavs for converted audio.\u001b[0m\n",
            "\u001b[34m[ INFO    ] Starting conversion of /tmp/asr_sundanese/data/54/.\u001b[0m\n",
            "\u001b[32m[ SUCCESS ] See /tmp/asr_sundanese/wavs for converted audio.\u001b[0m\n",
            "\u001b[34m[ INFO    ] Starting conversion of /tmp/asr_sundanese/data/15/.\u001b[0m\n",
            "\u001b[32m[ SUCCESS ] See /tmp/asr_sundanese/wavs for converted audio.\u001b[0m\n",
            "\u001b[34m[ INFO    ] Starting conversion of /tmp/asr_sundanese/data/5b/.\u001b[0m\n",
            "\u001b[32m[ SUCCESS ] See /tmp/asr_sundanese/wavs for converted audio.\u001b[0m\n",
            "\u001b[34m[ INFO    ] Starting conversion of /tmp/asr_sundanese/data/6d/.\u001b[0m\n",
            "\u001b[32m[ SUCCESS ] See /tmp/asr_sundanese/wavs for converted audio.\u001b[0m\n",
            "\u001b[34m[ INFO    ] Starting conversion of /tmp/asr_sundanese/data/6a/.\u001b[0m\n",
            "\u001b[32m[ SUCCESS ] See /tmp/asr_sundanese/wavs for converted audio.\u001b[0m\n",
            "\u001b[34m[ INFO    ] Starting conversion of /tmp/asr_sundanese/data/18/.\u001b[0m\n",
            "\u001b[32m[ SUCCESS ] See /tmp/asr_sundanese/wavs for converted audio.\u001b[0m\n",
            "\u001b[34m[ INFO    ] Starting conversion of /tmp/asr_sundanese/data/65/.\u001b[0m\n",
            "\u001b[32m[ SUCCESS ] See /tmp/asr_sundanese/wavs for converted audio.\u001b[0m\n",
            "\u001b[34m[ INFO    ] Starting conversion of /tmp/asr_sundanese/data/95/.\u001b[0m\n",
            "\u001b[32m[ SUCCESS ] See /tmp/asr_sundanese/wavs for converted audio.\u001b[0m\n",
            "\u001b[34m[ INFO    ] Starting conversion of /tmp/asr_sundanese/data/2b/.\u001b[0m\n",
            "\u001b[32m[ SUCCESS ] See /tmp/asr_sundanese/wavs for converted audio.\u001b[0m\n",
            "\u001b[34m[ INFO    ] Starting conversion of /tmp/asr_sundanese/data/4f/.\u001b[0m\n",
            "\u001b[32m[ SUCCESS ] See /tmp/asr_sundanese/wavs for converted audio.\u001b[0m\n",
            "\u001b[34m[ INFO    ] Starting conversion of /tmp/asr_sundanese/data/45/.\u001b[0m\n",
            "\u001b[32m[ SUCCESS ] See /tmp/asr_sundanese/wavs for converted audio.\u001b[0m\n",
            "\u001b[34m[ INFO    ] Starting conversion of /tmp/asr_sundanese/data/68/.\u001b[0m\n",
            "\u001b[32m[ SUCCESS ] See /tmp/asr_sundanese/wavs for converted audio.\u001b[0m\n",
            "\u001b[34m[ INFO    ] Starting conversion of /tmp/asr_sundanese/data/72/.\u001b[0m\n",
            "\u001b[32m[ SUCCESS ] See /tmp/asr_sundanese/wavs for converted audio.\u001b[0m\n",
            "\u001b[34m[ INFO    ] Starting conversion of /tmp/asr_sundanese/data/43/.\u001b[0m\n",
            "\u001b[32m[ SUCCESS ] See /tmp/asr_sundanese/wavs for converted audio.\u001b[0m\n",
            "\u001b[34m[ INFO    ] Starting conversion of /tmp/asr_sundanese/data/12/.\u001b[0m\n",
            "\u001b[32m[ SUCCESS ] See /tmp/asr_sundanese/wavs for converted audio.\u001b[0m\n",
            "\u001b[34m[ INFO    ] Starting conversion of /tmp/asr_sundanese/data/20/.\u001b[0m\n",
            "\u001b[32m[ SUCCESS ] See /tmp/asr_sundanese/wavs for converted audio.\u001b[0m\n",
            "\u001b[34m[ INFO    ] Starting conversion of /tmp/asr_sundanese/data/29/.\u001b[0m\n",
            "\u001b[32m[ SUCCESS ] See /tmp/asr_sundanese/wavs for converted audio.\u001b[0m\n",
            "\u001b[34m[ INFO    ] Starting conversion of /tmp/asr_sundanese/data/14/.\u001b[0m\n",
            "\u001b[32m[ SUCCESS ] See /tmp/asr_sundanese/wavs for converted audio.\u001b[0m\n",
            "\u001b[34m[ INFO    ] Starting conversion of /tmp/asr_sundanese/data/36/.\u001b[0m\n",
            "\u001b[32m[ SUCCESS ] See /tmp/asr_sundanese/wavs for converted audio.\u001b[0m\n",
            "\u001b[34m[ INFO    ] Starting conversion of /tmp/asr_sundanese/data/00/.\u001b[0m\n",
            "\u001b[32m[ SUCCESS ] See /tmp/asr_sundanese/wavs for converted audio.\u001b[0m\n",
            "\u001b[34m[ INFO    ] Starting conversion of /tmp/asr_sundanese/data/34/.\u001b[0m\n",
            "\u001b[32m[ SUCCESS ] See /tmp/asr_sundanese/wavs for converted audio.\u001b[0m\n",
            "\u001b[34m[ INFO    ] Starting conversion of /tmp/asr_sundanese/data/70/.\u001b[0m\n",
            "\u001b[32m[ SUCCESS ] See /tmp/asr_sundanese/wavs for converted audio.\u001b[0m\n",
            "\u001b[34m[ INFO    ] Starting conversion of /tmp/asr_sundanese/data/85/.\u001b[0m\n",
            "\n",
            "Aborted!\n",
            "\u001b[34m[ INFO    ] Starting conversion of /tmp/asr_sundanese/data/98/.\u001b[0m\n",
            "Process ForkPoolWorker-1:\n",
            "Process ForkPoolWorker-5:\n",
            "\n",
            "Aborted!\n",
            "\u001b[34m[ INFO    ] Starting conversion of /tmp/asr_sundanese/data/11/.\u001b[0m\n",
            "\u001b[32m[ SUCCESS ] See /tmp/asr_sundanese/wavs for converted audio.\u001b[0m\n",
            "\u001b[34m[ INFO    ] Starting conversion of /tmp/asr_sundanese/data/17/.\u001b[0m\n",
            "\u001b[32m[ SUCCESS ] See /tmp/asr_sundanese/wavs for converted audio.\u001b[0m\n",
            "\u001b[34m[ INFO    ] Starting conversion of /tmp/asr_sundanese/data/8c/.\u001b[0m\n",
            "\u001b[32m[ SUCCESS ] See /tmp/asr_sundanese/wavs for converted audio.\u001b[0m\n",
            "\u001b[34m[ INFO    ] Starting conversion of /tmp/asr_sundanese/data/38/.\u001b[0m\n",
            "\u001b[32m[ SUCCESS ] See /tmp/asr_sundanese/wavs for converted audio.\u001b[0m\n",
            "\u001b[34m[ INFO    ] Starting conversion of /tmp/asr_sundanese/data/4d/.\u001b[0m\n",
            "\u001b[32m[ SUCCESS ] See /tmp/asr_sundanese/wavs for converted audio.\u001b[0m\n",
            "\u001b[34m[ INFO    ] Starting conversion of /tmp/asr_sundanese/data/64/.\u001b[0m\n",
            "\u001b[32m[ SUCCESS ] See /tmp/asr_sundanese/wavs for converted audio.\u001b[0m\n",
            "\u001b[34m[ INFO    ] Starting conversion of /tmp/asr_sundanese/data/8a/.\u001b[0m\n",
            "\u001b[32m[ SUCCESS ] See /tmp/asr_sundanese/wavs for converted audio.\u001b[0m\n",
            "\u001b[34m[ INFO    ] Starting conversion of /tmp/asr_sundanese/data/61/.\u001b[0m\n",
            "\u001b[32m[ SUCCESS ] See /tmp/asr_sundanese/wavs for converted audio.\u001b[0m\n",
            "\u001b[34m[ INFO    ] Starting conversion of /tmp/asr_sundanese/data/94/.\u001b[0m\n",
            "\u001b[32m[ SUCCESS ] See /tmp/asr_sundanese/wavs for converted audio.\u001b[0m\n",
            "\u001b[34m[ INFO    ] Starting conversion of /tmp/asr_sundanese/data/02/.\u001b[0m\n",
            "\u001b[32m[ SUCCESS ] See /tmp/asr_sundanese/wavs for converted audio.\u001b[0m\n",
            "\u001b[34m[ INFO    ] Starting conversion of /tmp/asr_sundanese/data/71/.\u001b[0m\n",
            "\u001b[32m[ SUCCESS ] See /tmp/asr_sundanese/wavs for converted audio.\u001b[0m\n",
            "\u001b[34m[ INFO    ] Starting conversion of /tmp/asr_sundanese/data/8d/.\u001b[0m\n",
            "\u001b[32m[ SUCCESS ] See /tmp/asr_sundanese/wavs for converted audio.\u001b[0m\n",
            "\u001b[34m[ INFO    ] Starting conversion of /tmp/asr_sundanese/data/6f/.\u001b[0m\n",
            "\u001b[32m[ SUCCESS ] See /tmp/asr_sundanese/wavs for converted audio.\u001b[0m\n",
            "\u001b[34m[ INFO    ] Starting conversion of /tmp/asr_sundanese/data/7f/.\u001b[0m\n",
            "\u001b[32m[ SUCCESS ] See /tmp/asr_sundanese/wavs for converted audio.\u001b[0m\n",
            "\u001b[34m[ INFO    ] Starting conversion of /tmp/asr_sundanese/data/32/.\u001b[0m\n",
            "\u001b[32m[ SUCCESS ] See /tmp/asr_sundanese/wavs for converted audio.\u001b[0m\n",
            "\u001b[34m[ INFO    ] Starting conversion of /tmp/asr_sundanese/data/88/.\u001b[0m\n",
            "\u001b[32m[ SUCCESS ] See /tmp/asr_sundanese/wavs for converted audio.\u001b[0m\n",
            "\u001b[34m[ INFO    ] Starting conversion of /tmp/asr_sundanese/data/6b/.\u001b[0m\n",
            "\u001b[32m[ SUCCESS ] See /tmp/asr_sundanese/wavs for converted audio.\u001b[0m\n",
            "\u001b[34m[ INFO    ] Starting conversion of /tmp/asr_sundanese/data/46/.\u001b[0m\n",
            "\u001b[32m[ SUCCESS ] See /tmp/asr_sundanese/wavs for converted audio.\u001b[0m\n",
            "\u001b[34m[ INFO    ] Starting conversion of /tmp/asr_sundanese/data/39/.\u001b[0m\n",
            "\u001b[32m[ SUCCESS ] See /tmp/asr_sundanese/wavs for converted audio.\u001b[0m\n",
            "\u001b[34m[ INFO    ] Starting conversion of /tmp/asr_sundanese/data/44/.\u001b[0m\n",
            "\u001b[32m[ SUCCESS ] See /tmp/asr_sundanese/wavs for converted audio.\u001b[0m\n",
            "\u001b[34m[ INFO    ] Starting conversion of /tmp/asr_sundanese/data/91/.\u001b[0m\n",
            "\u001b[32m[ SUCCESS ] See /tmp/asr_sundanese/wavs for converted audio.\u001b[0m\n",
            "\u001b[34m[ INFO    ] Starting conversion of /tmp/asr_sundanese/data/08/.\u001b[0m\n",
            "\u001b[32m[ SUCCESS ] See /tmp/asr_sundanese/wavs for converted audio.\u001b[0m\n",
            "\u001b[34m[ INFO    ] Starting conversion of /tmp/asr_sundanese/data/75/.\u001b[0m\n",
            "\u001b[32m[ SUCCESS ] See /tmp/asr_sundanese/wavs for converted audio.\u001b[0m\n",
            "\u001b[34m[ INFO    ] Starting conversion of /tmp/asr_sundanese/data/79/.\u001b[0m\n",
            "\u001b[32m[ SUCCESS ] See /tmp/asr_sundanese/wavs for converted audio.\u001b[0m\n",
            "\u001b[34m[ INFO    ] Starting conversion of /tmp/asr_sundanese/data/6e/.\u001b[0m\n",
            "\u001b[32m[ SUCCESS ] See /tmp/asr_sundanese/wavs for converted audio.\u001b[0m\n",
            "\u001b[34m[ INFO    ] Starting conversion of /tmp/asr_sundanese/data/48/.\u001b[0m\n",
            "\u001b[32m[ SUCCESS ] See /tmp/asr_sundanese/wavs for converted audio.\u001b[0m\n",
            "\u001b[34m[ INFO    ] Starting conversion of /tmp/asr_sundanese/data/2c/.\u001b[0m\n",
            "\u001b[32m[ SUCCESS ] See /tmp/asr_sundanese/wavs for converted audio.\u001b[0m\n",
            "\u001b[34m[ INFO    ] Starting conversion of /tmp/asr_sundanese/data/1d/.\u001b[0m\n",
            "\u001b[32m[ SUCCESS ] See /tmp/asr_sundanese/wavs for converted audio.\u001b[0m\n",
            "\u001b[34m[ INFO    ] Starting conversion of /tmp/asr_sundanese/data/87/.\u001b[0m\n",
            "\u001b[32m[ SUCCESS ] See /tmp/asr_sundanese/wavs for converted audio.\u001b[0m\n",
            "\u001b[34m[ INFO    ] Starting conversion of /tmp/asr_sundanese/data/83/.\u001b[0m\n",
            "\u001b[32m[ SUCCESS ] See /tmp/asr_sundanese/wavs for converted audio.\u001b[0m\n",
            "\u001b[34m[ INFO    ] Starting conversion of /tmp/asr_sundanese/data/1f/.\u001b[0m\n",
            "\u001b[32m[ SUCCESS ] See /tmp/asr_sundanese/wavs for converted audio.\u001b[0m\n",
            "\u001b[34m[ INFO    ] Starting conversion of /tmp/asr_sundanese/data/9c/.\u001b[0m\n",
            "\u001b[32m[ SUCCESS ] See /tmp/asr_sundanese/wavs for converted audio.\u001b[0m\n",
            "\u001b[34m[ INFO    ] Starting conversion of /tmp/asr_sundanese/data/2f/.\u001b[0m\n"
          ]
        }
      ],
      "source": [
        "for label in labels:\n",
        "    !audioconvert convert \"/tmp/asr_sundanese/data/{label}/\" \"/tmp/asr_sundanese/wavs/\" --output-format .wav"
      ]
    },
    {
      "cell_type": "code",
      "execution_count": null,
      "metadata": {
        "id": "_ZiGqMjxymU6"
      },
      "outputs": [],
      "source": [
        "wavs_path = \"/tmp/asr_sundanese/wavs/\""
      ]
    },
    {
      "cell_type": "code",
      "execution_count": null,
      "metadata": {
        "id": "3NLSxSirJbWr"
      },
      "outputs": [],
      "source": [
        "no_of_recordings=[]\n",
        "for label in labels:\n",
        "    waves = [f for f in os.listdir(flacs_path + '/'+ label) if f.endswith('.flac')]\n",
        "    no_of_recordings.append(len(waves))\n",
        "    \n",
        "plt.figure(figsize=(30,5))\n",
        "index = np.arange(len(labels))\n",
        "plt.bar(index, no_of_recordings)\n",
        "plt.xlabel('Commands', fontsize=12)\n",
        "plt.ylabel('No of recordings', fontsize=12)\n",
        "plt.xticks(index, labels, fontsize=15, rotation=60)\n",
        "plt.title('No. of recordings for each command')\n",
        "plt.show()"
      ]
    },
    {
      "cell_type": "code",
      "execution_count": null,
      "metadata": {
        "id": "wN1tdvAVLl0Z"
      },
      "outputs": [],
      "source": [
        "sum(no_of_recordings)"
      ]
    },
    {
      "cell_type": "code",
      "execution_count": null,
      "metadata": {
        "id": "j-4GpECi-KBW"
      },
      "outputs": [],
      "source": [
        "metadata_df = pd.read_csv(metadata_path, sep=\"\\t\", header=None, quoting=3)\n",
        "metadata_df = metadata_df[:sum(no_of_recordings)]\n",
        "metadata_df.tail(10)"
      ]
    },
    {
      "cell_type": "code",
      "execution_count": null,
      "metadata": {
        "id": "l3GX2jd3-KjS"
      },
      "outputs": [],
      "source": [
        "metadata_df.columns = [\"file_id\", \"user_id\", \"transcription\"]\n",
        "metadata_df = metadata_df[[\"file_id\", \"transcription\"]]\n",
        "metadata_df = metadata_df.sample(frac=1).reset_index(drop=True)"
      ]
    },
    {
      "cell_type": "code",
      "execution_count": null,
      "metadata": {
        "id": "ChDiFsLOFEBV"
      },
      "outputs": [],
      "source": [
        "split = int(len(metadata_df) * 0.90)\n",
        "df_train = metadata_df[:split]\n",
        "df_val = metadata_df[split:]\n",
        "\n",
        "print(f\"Size of the training set: {len(df_train)}\")\n",
        "print(f\"Size of the validation set: {len(df_val)}\")"
      ]
    },
    {
      "cell_type": "code",
      "execution_count": null,
      "metadata": {
        "id": "oSs7NHjyFtSk"
      },
      "outputs": [],
      "source": [
        "# The set of characters accepted in the transcription\n",
        "characters = [x for x in \"abcdefghijklmnopqrstuvwxyz'?! \"]\n",
        "\n",
        "# Mapping characters to integers\n",
        "char_to_num = keras.layers.StringLookup(vocabulary=characters, oov_token=\"\")\n",
        "\n",
        "# Mapping integers back to original characters\n",
        "num_to_char = keras.layers.StringLookup(\n",
        "                    vocabulary=char_to_num.get_vocabulary(),\n",
        "                    oov_token=\"\",\n",
        "                    invert=True)\n",
        "\n",
        "print(f\"The vocabulary is: {char_to_num.get_vocabulary()}\")\n",
        "print(f\"Size: {char_to_num.vocabulary_size()}\")"
      ]
    },
    {
      "cell_type": "code",
      "execution_count": null,
      "metadata": {
        "id": "bbWCWZoVGEyp"
      },
      "outputs": [],
      "source": [
        "char_to_num"
      ]
    },
    {
      "cell_type": "markdown",
      "metadata": {
        "id": "wQ4xNu5qbEYw"
      },
      "source": [
        "## Process the audio\n"
      ]
    },
    {
      "cell_type": "code",
      "execution_count": null,
      "metadata": {
        "id": "iiZ0RBqMGGnl"
      },
      "outputs": [],
      "source": [
        "frame_length = 256\n",
        "frame_step = 160\n",
        "fft_length = 384\n",
        "\n",
        "def encode_single_sample(wav_file, label):\n",
        "    # Read wav file\n",
        "    file = tf.io.read_file(wavs_path + wav_file + \".wav\")\n",
        "    \n",
        "    # Decode the wav file\n",
        "    audio, _ = tf.audio.decode_wav(file)\n",
        "    audio = tf.squeeze(audio, axis=-1)\n",
        "    \n",
        "    # Change type to float\n",
        "    audio = tf.cast(audio, tf.float32)\n",
        "    \n",
        "    # Get the spectogram\n",
        "    spectogram = tf.signal.stft(\n",
        "        audio, frame_length=frame_length, frame_step=frame_step, fft_length=fft_length\n",
        "    )\n",
        "    \n",
        "    # Only need the magnitude\n",
        "    spectogram = tf.abs(spectogram)\n",
        "    spectogram = tf.math.pow(spectogram, 0.5)\n",
        "    \n",
        "    # Normalization\n",
        "    means = tf.math.reduce_mean(spectogram, 1, keepdims=True)\n",
        "    stddevs = tf.math.reduce_std(spectogram, 1, keepdims=True)\n",
        "    spectogram = (spectogram - means) / (stddevs + 1e-10)\n",
        "    \n",
        "    # Convert the label to lower case\n",
        "    label = tf.strings.lower(label)\n",
        "    \n",
        "    # Split the label\n",
        "    label = tf.strings.unicode_split(label, input_encoding=\"UTF-8\")\n",
        "    \n",
        "    # Map the characters in label to number\n",
        "    label = char_to_num(label)\n",
        "    \n",
        "    return spectogram, label"
      ]
    },
    {
      "cell_type": "markdown",
      "metadata": {
        "id": "ARUcErcebb-p"
      },
      "source": [
        "## Creating dataset objects"
      ]
    },
    {
      "cell_type": "code",
      "execution_count": null,
      "metadata": {
        "id": "DiupcWvpGUJc"
      },
      "outputs": [],
      "source": [
        "batch_size = 32\n",
        "# Define the training dataset\n",
        "train_dataset = tf.data.Dataset.from_tensor_slices(\n",
        "    (list(df_train[\"file_id\"]), list(df_train[\"transcription\"]))\n",
        ")\n",
        "\n",
        "train_dataset = (\n",
        "    train_dataset.map(encode_single_sample, num_parallel_calls=tf.data.AUTOTUNE)\n",
        "    .padded_batch(batch_size)\n",
        "    .prefetch(buffer_size=tf.data.AUTOTUNE)\n",
        ")\n",
        "\n",
        "# Define the validation dataset\n",
        "validation_dataset = tf.data.Dataset.from_tensor_slices(\n",
        "    (list(df_val[\"file_id\"]), list(df_val[\"transcription\"]))\n",
        ")\n",
        "\n",
        "validation_dataset = (\n",
        "    validation_dataset.map(encode_single_sample, num_parallel_calls=tf.data.AUTOTUNE)\n",
        "    .padded_batch(batch_size)\n",
        "    .prefetch(buffer_size=tf.data.AUTOTUNE)\n",
        ")"
      ]
    },
    {
      "cell_type": "markdown",
      "metadata": {
        "id": "k6PdkQ3Ybmcu"
      },
      "source": [
        "## Visualize the data"
      ]
    },
    {
      "cell_type": "code",
      "execution_count": null,
      "metadata": {
        "id": "B5satA3aGnZW"
      },
      "outputs": [],
      "source": [
        "fig = plt.figure(figsize=(8, 5))\n",
        "for batch in train_dataset.take(1):\n",
        "    spectogram = batch[0][0].numpy()\n",
        "    spectogram = np.array([np.trim_zeros(x) for x in np.transpose(spectogram)])\n",
        "    label = batch[1][0]\n",
        "    \n",
        "    # Spectogram\n",
        "    label = tf.strings.reduce_join(num_to_char(label)).numpy().decode(\"utf-8\")\n",
        "    ax = plt.subplot(2, 1, 1)\n",
        "    ax.imshow(spectogram, vmax=1)\n",
        "    ax.set_title(label)\n",
        "    ax.axis(\"off\")\n",
        "    \n",
        "    # Wav\n",
        "    file = tf.io.read_file(wavs_path + list(df_train[\"file_id\"])[0] + \".wav\")\n",
        "    audio, _ = tf.audio.decode_wav(file)\n",
        "    audio = audio.numpy()\n",
        "    ax = plt.subplot(2, 1, 1)\n",
        "    plt.plot(audio)\n",
        "    ax.set_title(\"Signal Wave\")\n",
        "    ax.set_xlim(0, len(audio))\n",
        "    display.display(display.Audio(np.transpose(audio), rate=16000))\n",
        "plt.show()"
      ]
    },
    {
      "cell_type": "markdown",
      "metadata": {
        "id": "KQK7yy1wbyZ9"
      },
      "source": [
        "## Loss Function"
      ]
    },
    {
      "cell_type": "code",
      "execution_count": null,
      "metadata": {
        "id": "jZcd15gWG8T1"
      },
      "outputs": [],
      "source": [
        "def CTCLoss(y_true, y_pred):\n",
        "    batch_len = tf.cast(tf.shape(y_true)[0], dtype=\"int64\")\n",
        "    input_length = tf.cast(tf.shape(y_pred)[1], dtype=\"int64\")\n",
        "    label_length = tf.cast(tf.shape(y_true)[1], dtype=\"int64\")\n",
        "    \n",
        "    input_length = input_length * tf.ones(shape=(batch_len, 1), dtype=\"int64\")\n",
        "    label_length = label_length * tf.ones(shape=(batch_len, 1), dtype=\"int64\")\n",
        "    \n",
        "    loss = keras.backend.ctc_batch_cost(y_true, y_pred, input_length, label_length)\n",
        "    return loss\n"
      ]
    },
    {
      "cell_type": "markdown",
      "metadata": {
        "id": "2vnQVHFhbsBt"
      },
      "source": [
        "## Build Model"
      ]
    },
    {
      "cell_type": "code",
      "execution_count": null,
      "metadata": {
        "id": "rWQr6qu_G_kM"
      },
      "outputs": [],
      "source": [
        "def build_model(input_dim, output_dim, rnn_layers=5, rnn_units=128):\n",
        "    # Models input\n",
        "    input_spectogram = layers.Input((None, input_dim), name=\"input\")\n",
        "    \n",
        "    # Expand the dimension to use 2D CNN\n",
        "    x = layers.Reshape((-1, input_dim, 1), name=\"expand_dim\")(input_spectogram)\n",
        "    \n",
        "    # Convolution layer 1\n",
        "    x = layers.Conv2D(\n",
        "        filters=32,\n",
        "        kernel_size=[11, 41],\n",
        "        strides=[2, 2],\n",
        "        padding=\"same\",\n",
        "        use_bias=False,\n",
        "        name=\"conv_1\",\n",
        "        )(x)\n",
        "    x = layers.BatchNormalization(name=\"conv_1_bn\")(x)\n",
        "    x = layers.ReLU(name=\"conv_1_relu\")(x)\n",
        "    \n",
        "    # Convolution layer 2\n",
        "    x = layers.Conv2D(\n",
        "        filters=32,\n",
        "        kernel_size=[11, 21],\n",
        "        strides=[1, 2],\n",
        "        padding=\"same\",\n",
        "        use_bias=False,\n",
        "        name=\"conv_2\",\n",
        "        )(x)\n",
        "    x = layers.BatchNormalization(name=\"conv_2_bn\")(x)\n",
        "    x = layers.ReLU(name=\"conv_2_relu\")(x)\n",
        "    \n",
        "    # Reshape the resulted volume to feed the RNNs layers\n",
        "    x = layers.Reshape((-1, x.shape[-2] * x.shape[-1]))(x)\n",
        "    \n",
        "    # RNN layers\n",
        "    for i in range(1, rnn_layers + 1):\n",
        "        recurrent = layers.GRU(\n",
        "            units=rnn_units,\n",
        "            activation=\"tanh\",\n",
        "            recurrent_activation=\"sigmoid\",\n",
        "            use_bias=True,\n",
        "            return_sequences=True,\n",
        "            reset_after=True,\n",
        "            name=f\"gru_{i}\",\n",
        "        )\n",
        "        x = layers.Bidirectional(\n",
        "            recurrent, name=f\"bidirectional_{i}\", merge_mode=\"concat\"\n",
        "        )(x)\n",
        "        if i < rnn_layers:\n",
        "            x = layers.Dropout(rate=0.5)(x)\n",
        "        \n",
        "    # Dense layer\n",
        "    x = layers.Dense(units=rnn_units * 2, name=\"dense_1\")(x)\n",
        "    x = layers.ReLU(name=\"dense_1_relu\")(x)\n",
        "    x = layers.Dropout(rate=0.5)(x)\n",
        "    \n",
        "    # Classification layer\n",
        "    output = layers.Dense(units=output_dim + 1, activation=\"softmax\")(x)\n",
        "    \n",
        "    # Model\n",
        "    model = keras.Model(input_spectogram, output, name=\"DeepSpeech_2\")\n",
        "    \n",
        "    # Optimizer\n",
        "    opt = keras.optimizers.Adam(learning_rate=1e-4)\n",
        "    \n",
        "    # Compile the model and return\n",
        "    model.compile(optimizer=opt, loss=CTCLoss)\n",
        "    \n",
        "    return model"
      ]
    },
    {
      "cell_type": "code",
      "execution_count": null,
      "metadata": {
        "id": "WBKqpXqtHFrv"
      },
      "outputs": [],
      "source": [
        "model = build_model(\n",
        "    input_dim=fft_length // 2 + 1,\n",
        "    output_dim=char_to_num.vocabulary_size(),\n",
        "    rnn_units=512,\n",
        ")\n",
        "model.summary(line_length=110)"
      ]
    },
    {
      "cell_type": "markdown",
      "metadata": {
        "id": "D71MVLGob3np"
      },
      "source": [
        "## Training and Evaluating"
      ]
    },
    {
      "cell_type": "code",
      "execution_count": null,
      "metadata": {
        "id": "hCw8tUvi-wmq"
      },
      "outputs": [],
      "source": [
        "def decode_batch_predictions(pred):\n",
        "    input_len = np.ones(pred.shape[0]) * pred.shape[1]\n",
        "    results = keras.backend.ctc_decode(pred, input_length=input_len, greedy=True)[0][0]\n",
        "    output_text = []\n",
        "    for result in results:\n",
        "        result = tf.strings.reduce_join(num_to_char(result)).numpy().decode(\"utf-8\")\n",
        "        output_text.append(result)\n",
        "    return output_text"
      ]
    },
    {
      "cell_type": "code",
      "execution_count": null,
      "metadata": {
        "id": "acoWmvid_a0z"
      },
      "outputs": [],
      "source": [
        "class CallbackEval(keras.callbacks.Callback):\n",
        "    def __init__(self, dataset):\n",
        "        super().__init__()\n",
        "        self.dataset = dataset\n",
        "        \n",
        "    def on_epoch_end(self, epoch: int, logs=None):\n",
        "        predictions = []\n",
        "        targets = []\n",
        "        for batch in self.dataset:\n",
        "            X, y = batch\n",
        "            batch_predictions = model.predict(X)\n",
        "            batch_predictions = decode_batch_predictions(batch_predictions)\n",
        "            predictions.extend(batch_predictions)\n",
        "            for label in y:\n",
        "                label = (\n",
        "                    tf.strings.reduce_join(num_to_char(label)).numpy().decode(\"utf-8\")\n",
        "                )\n",
        "                targets.append(label)\n",
        "        wer_score = wer(targets, predictions)\n",
        "        print(\"-\" * 100)\n",
        "        print(f\"Word Error Rate: {wer_score:.4f}\")\n",
        "        print(\"-\" * 100)\n",
        "        for i in np.random.randint(0, len(predictions), 2):\n",
        "            print(f\"Target: {targets[i]}\")\n",
        "            print(f\"Predictions: {predictions[i]}\")\n",
        "            print(\"-\" * 100)"
      ]
    },
    {
      "cell_type": "code",
      "execution_count": null,
      "metadata": {
        "id": "RZQHYzHX-5b7"
      },
      "outputs": [],
      "source": [
        "epochs = 5\n",
        "validation_callback = CallbackEval(validation_dataset)\n",
        "history = model.fit(\n",
        "    train_dataset,\n",
        "    validation_data=validation_dataset,\n",
        "    epochs=epochs,\n",
        "    callbacks=[validation_callback],\n",
        ")"
      ]
    },
    {
      "cell_type": "markdown",
      "metadata": {
        "id": "KyWT2toCb63j"
      },
      "source": [
        "## Predict"
      ]
    },
    {
      "cell_type": "code",
      "execution_count": null,
      "metadata": {
        "id": "x0ggeQK__xI_"
      },
      "outputs": [],
      "source": [
        "predictions = []\n",
        "targets = []\n",
        "for batch in validation_dataset:\n",
        "    X, y = batch\n",
        "    batch_predictions = model.predict(X)\n",
        "    batch_predictions = decode_batch_predictions(batch_predictions)\n",
        "    predictions.extend(batch_predictions)\n",
        "    for label in y:\n",
        "        label = tf.strings.reduce_join(num_to_char(label)).numpy().decode(\"utf-8\")\n",
        "        targets.append(label)\n",
        "wer_score = wer(targets, predictions)\n",
        "print(\"-\" * 100)\n",
        "print(f\"Word Error Rate: {wer_score:.4f}\")\n",
        "print(\"-\" * 100)\n",
        "for i in np.random.randint(0, len(predictions), 2):\n",
        "    print(f\"Target: {targets[i]}\")\n",
        "    print(f\"Predictions: {predictions[i]}\")\n",
        "    print(\"-\" * 100)"
      ]
    },
    {
      "cell_type": "code",
      "source": [
        "model.save('/tmp/asr_sundanese/model.h5')"
      ],
      "metadata": {
        "id": "oHz54C0EKYwZ"
      },
      "execution_count": null,
      "outputs": []
    }
  ],
  "metadata": {
    "colab": {
      "provenance": [],
      "gpuType": "T4"
    },
    "kernelspec": {
      "display_name": "Python 3",
      "name": "python3"
    },
    "language_info": {
      "name": "python"
    },
    "accelerator": "GPU"
  },
  "nbformat": 4,
  "nbformat_minor": 0
}